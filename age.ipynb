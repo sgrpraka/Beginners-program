{
 "cells": [
  {
   "cell_type": "code",
   "execution_count": null,
   "metadata": {},
   "outputs": [],
   "source": [
    "#if age > 18 print adult , if 10 < age <= 18 print teen, if age < 10 print child\n",
    "a=int(input(\"Enter your age:\"))\n",
    "if (a>=18):\n",
    "    print(\"Adult\")\n",
    "elif (10<a<=18):\n",
    "    print(\"Teen\")\n",
    "elif(a<=10):\n",
    "    print(\"Child\")"
   ]
  }
 ],
 "metadata": {
  "kernelspec": {
   "display_name": "Python 3",
   "language": "python",
   "name": "python3"
  },
  "language_info": {
   "codemirror_mode": {
    "name": "ipython",
    "version": 3
   },
   "file_extension": ".py",
   "mimetype": "text/x-python",
   "name": "python",
   "nbconvert_exporter": "python",
   "pygments_lexer": "ipython3",
   "version": "3.7.3"
  }
 },
 "nbformat": 4,
 "nbformat_minor": 2
}
